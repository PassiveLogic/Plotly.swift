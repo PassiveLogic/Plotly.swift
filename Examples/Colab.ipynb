{
  "cells": [
    {
      "cell_type": "code",
      "source": [
        "%install '.package(url: \"https://github.com/vojtamolda/Plotly.swift.git\", .branch(\"master\"))' Plotly\n",
        "%install '.package(url: \"https://github.com/IBM-Swift/BlueCryptor.git\", from: \"1.0.0\")' Cryptor\n",
        "%include \"EnableJupyterDisplay.swift\""
      ],
      "outputs": [
        {
          "output_type": "stream",
          "name": "stdout",
          "text": [
            "Installing packages:\n",
            "\t.package(url: \"https://github.com/IBM-Swift/BlueCryptor.git\", from: \"1.0.0\")\n",
            "\t\tCryptor\n",
            "\t.package(url: \"https://github.com/vojtamolda/Plotly.swift.git\", .branch(\"master\"))\n",
            "\t\tPlotly\n",
            "With SwiftPM flags: []\n",
            "Working in: /tmp/tmpvvz2aphw/swift-install\n",
            "Fetching https://github.com/vojtamolda/Plotly.swift.git\n",
            "Fetching https://github.com/IBM-Swift/BlueCryptor.git\n",
            "Fetching https://github.com/IBM-Swift/OpenSSL.git\n",
            "Cloning https://github.com/IBM-Swift/BlueCryptor.git\n",
            "Resolving https://github.com/IBM-Swift/BlueCryptor.git at 1.0.32\n",
            "Cloning https://github.com/IBM-Swift/OpenSSL.git\n",
            "Resolving https://github.com/IBM-Swift/OpenSSL.git at 2.2.2\n",
            "Cloning https://github.com/vojtamolda/Plotly.swift.git\n",
            "Resolving https://github.com/vojtamolda/Plotly.swift.git at master\n",
            "[1/69] Compiling Plotly Figure.swift\n",
            "[2/69] Compiling Plotly Browser.swift\n",
            "[3/69] Compiling Plotly HTML.swift\n",
            "[4/69] Compiling Plotly JSON.swift\n",
            "[5/69] Compiling Plotly Schema.swift\n",
            "[6/69] Compiling Plotly Config.swift\n",
            "[7/69] Compiling Plotly Layout.swift\n",
            "[8/69] Compiling Plotly Area.swift\n",
            "[9/69] Compiling Plotly Bar.swift\n",
            "[10/69] Compiling Plotly Barpolar.swift\n",
            "[11/69] Compiling Plotly Box.swift\n",
            "[12/70] Merging module Cryptor\n",
            "[13/70] Wrapping AST for Cryptor for debugging\n",
            "[14/70] Compiling Plotly Indicator.swift\n",
            "[15/70] Compiling Plotly Isosurface.swift\n",
            "[16/70] Compiling Plotly Mesh3D.swift\n",
            "[17/70] Compiling Plotly Ohlc.swift\n",
            "[18/70] Compiling Plotly Parcats.swift\n",
            "[19/70] Compiling Plotly Parcoords.swift\n",
            "[20/70] Compiling Plotly Pie.swift\n",
            "[21/70] Compiling Plotly Pointcloud.swift\n",
            "[22/70] Compiling Plotly Sankey.swift\n",
            "[23/70] Compiling Plotly Scatter.swift\n",
            "[24/70] Compiling Plotly Scatter3D.swift\n",
            "[25/70] Compiling Plotly Scattercarpet.swift\n",
            "[26/70] Compiling Plotly Scattergeo.swift\n",
            "[27/70] Compiling Plotly Scattergl.swift\n",
            "[28/70] Compiling Plotly Scattermapbox.swift\n",
            "[29/70] Compiling Plotly Scatterpolar.swift\n",
            "[30/70] Compiling Plotly Scatterpolargl.swift\n",
            "[31/70] Compiling Plotly Scatterternary.swift\n",
            "[32/70] Compiling Plotly Splom.swift\n",
            "[33/70] Compiling Plotly Streamtube.swift\n",
            "[34/70] Compiling Plotly Sunburst.swift\n",
            "[35/70] Compiling Plotly Surface.swift\n",
            "[36/70] Compiling Plotly Table.swift\n",
            "[37/70] Compiling Plotly Treemap.swift\n",
            "[38/70] Compiling Plotly Violin.swift\n",
            "[39/70] Compiling Plotly Volume.swift\n",
            "[40/70] Compiling Plotly Waterfall.swift\n",
            "[52/70] Compiling Plotly Candlestick.swift\n",
            "[53/70] Compiling Plotly Carpet.swift\n",
            "[54/70] Compiling Plotly Choropleth.swift\n",
            "[55/70] Compiling Plotly Choroplethmapbox.swift\n",
            "[56/70] Compiling Plotly Cone.swift\n",
            "[57/70] Compiling Plotly Contour.swift\n",
            "[58/70] Compiling Plotly Contourcarpet.swift\n",
            "[59/70] Compiling Plotly Densitymapbox.swift\n",
            "[60/70] Compiling Plotly Funnel.swift\n",
            "[61/70] Compiling Plotly Funnelarea.swift\n",
            "[62/70] Compiling Plotly Heatmap.swift\n",
            "[63/70] Compiling Plotly Heatmapgl.swift\n",
            "[64/70] Compiling Plotly Histogram.swift\n",
            "[65/70] Compiling Plotly Histogram2D.swift\n",
            "[66/70] Compiling Plotly Histogram2Dcontour.swift\n",
            "[67/70] Compiling Plotly Image.swift\n",
            "[68/71] Merging module Plotly\n",
            "[69/72] Compiling jupyterInstalledPackages jupyterInstalledPackages.swift\n",
            "[70/73] Wrapping AST for Plotly for debugging\n",
            "[71/73] Merging module jupyterInstalledPackages\n",
            "[72/73] Wrapping AST for jupyterInstalledPackages for debugging\n",
            "[73/73] Linking libjupyterInstalledPackages.so\n",
            "Initializing Swift...\n",
            "Installation complete!\n"
          ]
        }
      ],
      "execution_count": 1,
      "metadata": {
        "id": "ih5n7UBtG_1D",
        "colab_type": "code",
        "colab": {
          "base_uri": "https://localhost:8080/",
          "height": 1000
        },
        "outputId": "e9cd609e-19d0-4838-aaad-e4f5ee85aca7",
        "inputHidden": false,
        "outputHidden": true
      }
    },
    {
      "cell_type": "code",
      "source": [
        "struct MessageContent: Encodable {\n",
        "    let metadata = \"{}\"\n",
        "    let transient = \"{}\"\n",
        "    let data: HTMLData\n",
        "\n",
        "    struct HTMLData: Encodable {\n",
        "        let html: String\n",
        "        let text = \"<IPython.core.display.HTML object>\"\n",
        "\n",
        "        private enum CodingKeys: String, CodingKey {\n",
        "            case html = \"text/html\"\n",
        "            case text  = \"text/plain\"\n",
        "        }\n",
        "\n",
        "        init(html: String) {\n",
        "            self.html = html\n",
        "        }\n",
        "    }\n",
        "\n",
        "    init(html: String) {\n",
        "        data = HTMLData(html: html)\n",
        "    }\n",
        "\n",
        "    var json: String {\n",
        "        let encoder = JSONEncoder()\n",
        "        encoder.outputFormatting = [.prettyPrinted, .sortedKeys]\n",
        "        encoder.keyEncodingStrategy = .convertToSnakeCase\n",
        "        guard let jsonData = try? encoder.encode(self) else { return \"{}\" }\n",
        "        let jsonString = String(data: jsonData, encoding: .utf8)!\n",
        "        return jsonString\n",
        "    }\n",
        "}\n",
        "\n",
        "func display(html: String) {\n",
        "    let content = MessageContent(html: html).json\n",
        "    JupyterDisplay.messages.append(JupyterDisplay.Message(content: content))\n",
        "}"
      ],
      "outputs": [],
      "execution_count": 0,
      "metadata": {
        "id": "BXm0jRSG3MPr",
        "colab_type": "code",
        "colab": {}
      }
    },
    {
      "cell_type": "code",
      "source": [
        "import Plotly\n",
        "\n",
        "let x = [1.0, 2.0, 3.0, 4.0]\n",
        "let y = [10.0, 15.0, 13.0, 17.0]\n",
        "let figure = Figure(data: [Scatter(x: x, y: y), Bar(x: x, y: y)])\n",
        "\n",
        "let html = try! HTML.create(from: figure, plotly: .online, mathJax: .online, document: true)\n",
        "display(html: html)"
      ],
      "outputs": [],
      "execution_count": 0,
      "metadata": {
        "id": "gSBYhpf0G_1R",
        "colab_type": "code",
        "colab": {}
      }
    }
  ],
  "metadata": {
    "kernelspec": {
      "display_name": "Swift",
      "language": "swift",
      "name": "swift"
    },
    "language_info": {
      "file_extension": ".swift",
      "mimetype": "text/x-swift",
      "name": "swift",
      "version": ""
    },
    "colab": {
      "name": "Swift.ipynb",
      "provenance": [],
      "collapsed_sections": []
    },
    "nteract": {
      "version": "0.15.0"
    }
  },
  "nbformat": 4,
  "nbformat_minor": 0
}