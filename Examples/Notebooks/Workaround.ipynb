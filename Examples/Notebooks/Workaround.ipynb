{
  "cells": [
    {
      "cell_type": "code",
      "source": [
        "%install '.package(url: \"https://github.com/IBM-Swift/BlueCryptor.git\", from: \"1.0.0\")' Cryptor"
      ],
      "outputs": [
        {
          "output_type": "stream",
          "name": "stdout",
          "text": [
            "Installing packages:\n",
            "\t.package(url: \"https://github.com/IBM-Swift/BlueCryptor.git\", from: \"1.0.0\")\n",
            "\t\tCryptor\n",
            "With SwiftPM flags: []\n",
            "Working in: /tmp/tmpinomkatj/swift-install\n",
            "Fetching https://github.com/IBM-Swift/BlueCryptor.git\n",
            "Fetching https://github.com/IBM-Swift/OpenSSL.git\n",
            "Cloning https://github.com/IBM-Swift/OpenSSL.git\n",
            "Resolving https://github.com/IBM-Swift/OpenSSL.git at 2.2.2\n",
            "Cloning https://github.com/IBM-Swift/BlueCryptor.git\n",
            "Resolving https://github.com/IBM-Swift/BlueCryptor.git at 1.0.32\n",
            "[1/14] Compiling Cryptor Crypto.swift\n",
            "[2/14] Compiling Cryptor Cryptor.swift\n",
            "[3/14] Compiling Cryptor Digest.swift\n",
            "[4/14] Compiling Cryptor HMAC.swift\n",
            "[5/14] Compiling Cryptor KeyDerivation.swift\n",
            "[6/14] Compiling Cryptor Random.swift\n",
            "[7/14] Compiling Cryptor SSLPointerTricks.swift\n",
            "[8/14] Compiling Cryptor Status.swift\n",
            "[9/14] Compiling Cryptor StreamCryptor.swift\n",
            "[10/14] Compiling Cryptor Updatable.swift\n",
            "[11/14] Compiling Cryptor Utilities.swift\n",
            "[12/15] Merging module Cryptor\n",
            "[13/16] Wrapping AST for Cryptor for debugging\n",
            "[14/16] Compiling jupyterInstalledPackages jupyterInstalledPackages.swift\n",
            "[15/17] Merging module jupyterInstalledPackages\n",
            "[16/17] Wrapping AST for jupyterInstalledPackages for debugging\n",
            "[17/17] Linking libjupyterInstalledPackages.so\n",
            "Initializing Swift...\n",
            "Installation complete!\n"
          ]
        }
      ],
      "execution_count": 1,
      "metadata": {
        "id": "bUb5uqUAmrgo",
        "colab_type": "code",
        "colab": {
          "base_uri": "https://localhost:8080/",
          "height": 568
        },
        "outputId": "a8c9475d-f1ac-4e66-8e86-133b11b80272"
      }
    },
    {
      "cell_type": "markdown",
      "source": [
        "# Jupyter Notebook\n",
        "\n",
        "The following code uses a pure Swift connection to the Jupyter server runtime bu doesn't work on Google Colab cloud notebooks."
      ],
      "metadata": {
        "id": "rbA9KTPJmrg2",
        "colab_type": "text"
      }
    },
    {
      "cell_type": "code",
      "source": [
        "%include \"EnableJupyterDisplay.swift\"\n",
        "\n",
        "\n",
        "struct HTMLMessageContent: Encodable {\n",
        "    let metadata = \"{}\"\n",
        "    let transient = \"{}\"\n",
        "\n",
        "    struct HTMLData: Encodable {\n",
        "        let html: String\n",
        "        let text = \"<IPython.core.display.HTML object>\"\n",
        "        private enum CodingKeys: String, CodingKey {\n",
        "            case html = \"text/html\"\n",
        "            case text  = \"text/plain\"\n",
        "        }\n",
        "    }\n",
        "    let data: HTMLData\n",
        "\n",
        "    init(html: String) {\n",
        "        data = HTMLData(html: html)\n",
        "    }\n",
        "\n",
        "    var json: String {\n",
        "        let encoder = JSONEncoder()\n",
        "        encoder.outputFormatting = [.prettyPrinted, .sortedKeys]\n",
        "        encoder.keyEncodingStrategy = .convertToSnakeCase\n",
        "        guard let jsonData = try? encoder.encode(self) else { return \"{}\" }\n",
        "        let jsonString = String(data: jsonData, encoding: .utf8)!\n",
        "        return jsonString\n",
        "    }\n",
        "}\n",
        "\n",
        "func display(html: String) {\n",
        "    let htmlMessageContent = HTMLMessageContent(html: html).json\n",
        "    JupyterDisplay.messages.append(JupyterDisplay.Message(content: htmlMessageContent))\n",
        "}"
      ],
      "outputs": [],
      "execution_count": 0,
      "metadata": {
        "colab_type": "code",
        "id": "ZPkE_ZyO64aT",
        "colab": {}
      }
    },
    {
      "cell_type": "code",
      "source": [
        "let greenBox = \"<div style='height: 100px; width: 100px; background-color: green'></div>\"\n",
        "display(html: greenBox)\n",
        "\n",
        "let bombIcon = \"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\"\n",
        "display(base64EncodedPNG: bombIcon)"
      ],
      "outputs": [],
      "execution_count": 0,
      "metadata": {
        "id": "MRUAQMR0mrhK",
        "colab_type": "code",
        "colab": {}
      }
    },
    {
      "cell_type": "markdown",
      "source": [
        "# Google Colab\n",
        "\n",
        "As of 01/30/2020, the following code is a workaround for Google Colab notebooks that don't display the output above. It overrides the `display(...)` function with an implementation that uses the Python bridge.\n",
        "\n",
        "It also works locally in Jupyter notebooks with [jupyter-swift](https://github.com/google/swift-jupyter) kernel. Once the pure Swift version starts working it should be removed and forgotten."
      ],
      "metadata": {
        "id": "ydKm-KR6mrhV",
        "colab_type": "text"
      }
    },
    {
      "cell_type": "code",
      "source": [
        "%include \"EnableIPythonDisplay.swift\"\n",
        "\n",
        "\n",
        "func display(base64EncodedPNG: String) {\n",
        "  let iPythonDisplay = Python.import(\"IPython.display\")\n",
        "  let codecs = Python.import(\"codecs\")\n",
        "  let imageData = codecs.decode(Python.bytes(base64EncodedPNG, encoding: \"utf8\"), encoding: \"base64\")\n",
        "  iPythonDisplay.Image(data: imageData, format: \"png\").display()\n",
        "}\n",
        "\n",
        "func display(html: String) {\n",
        "  let iPythonDisplay = Python.import(\"IPython.display\")\n",
        "  iPythonDisplay.HTML(html).display()\n",
        "}"
      ],
      "outputs": [],
      "execution_count": 0,
      "metadata": {
        "id": "BDsKIurzmrhY",
        "colab_type": "code",
        "colab": {}
      }
    },
    {
      "cell_type": "code",
      "source": [
        "let greenBox = \"<div style='height: 100px; width: 100px; background-color: green'></div>\"\n",
        "display(html: greenBox)\n",
        "\n",
        "let bombIcon = \"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\"\n",
        "display(base64EncodedPNG: bombIcon)"
      ],
      "outputs": [
        {
          "output_type": "display_data",
          "data": {
            "text/html": [
              "<div style='height: 100px; width: 100px; background-color: green'></div>"
            ],
            "text/plain": [
              "<IPython.core.display.HTML object>"
            ]
          },
          "metadata": {
            "tags": []
          }
        },
        {
          "output_type": "display_data",
          "data": {
            "image/png": "[encoded data removed]",
            "text/plain": [
              "<IPython.core.display.Image object>"
            ]
          },
          "metadata": {
            "tags": []
          }
        }
      ],
      "execution_count": 5,
      "metadata": {
        "colab_type": "code",
        "id": "57itOf7AG_1a",
        "colab": {
          "base_uri": "https://localhost:8080/",
          "height": 337
        },
        "outputId": "346069ee-8b9e-44d7-8d4d-a770256dcd17"
      }
    }
  ],
  "metadata": {
    "colab": {
      "name": "Workaround.ipynb",
      "provenance": [],
      "collapsed_sections": []
    },
    "kernelspec": {
      "display_name": "Swift",
      "language": "swift",
      "name": "swift"
    },
    "language_info": {
      "file_extension": ".swift",
      "mimetype": "text/x-swift",
      "name": "swift",
      "version": ""
    },
    "nteract": {
      "version": "0.21.0"
    }
  },
  "nbformat": 4,
  "nbformat_minor": 0
}