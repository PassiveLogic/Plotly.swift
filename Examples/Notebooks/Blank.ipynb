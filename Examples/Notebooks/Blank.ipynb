{
  "nbformat": 4,
  "nbformat_minor": 0,
  "metadata": {
    "colab": {
      "name": "Blank.ipynb",
      "provenance": [],
      "collapsed_sections": []
    },
    "kernelspec": {
      "name": "swift",
      "display_name": "Swift"
    }
  },
  "cells": [
    {
      "cell_type": "markdown",
      "metadata": {
        "id": "r67aNfYc255C",
        "colab_type": "text"
      },
      "source": [
        "# Blank\n",
        "\n",
        "[![GitHubBadge]][GitHubLink] [![ColabBadge]][ColabLink]\n",
        "\n",
        "Blank notebook with setup code to display [Plotly.swift](https://github.com/vojtamolda/Plotly.swift) charts.\n",
        "\n",
        "\n",
        "[ColabBadge]: https://colab.research.google.com/assets/colab-badge.svg \"Run notebook in Google Colab\"\n",
        "[ColabLink]: https://colab.research.google.com/github/vojtamolda/Plotly.swift/blob/master/Examples/Notebooks/Blank.ipynb\n",
        "\n",
        "[GitHubBadge]: https://img.shields.io/badge/|-Edit_on_GitHub-green.svg?logo=github \"Edit notebook's source code on GitHub\"\n",
        "[GitHubLink]: https://github.com/vojtamolda/Plotly.swift/blob/master/Examples/Notebooks/Blank.ipynb"
      ]
    },
    {
      "cell_type": "code",
      "metadata": {
        "id": "kZRlD4utdPuX",
        "colab_type": "code",
        "colab": {}
      },
      "source": [
        "%install '.package(url: \"https://github.com/vojtamolda/Plotly.swift.git\", .branch(\"master\"))' Plotly\n",
        "print(\"\\u{001B}[2J\") // Clear output"
      ],
      "execution_count": 0,
      "outputs": []
    },
    {
      "cell_type": "code",
      "metadata": {
        "id": "OmiNmB4e2z4h",
        "colab_type": "code",
        "colab": {}
      },
      "source": [
        "import Plotly\n",
        "%include \"EnableIPythonDisplay.swift\"\n",
        "\n",
        "func display(figure: Figure) {\n",
        "    let htmlContent = try! HTML.create(from: figure,\n",
        "        plotly: .online, mathJax: .online, document: false)\n",
        "\n",
        "    let iPythonDisplay = Python.import(\"IPython.display\")\n",
        "    iPythonDisplay.HTML(htmlContent).display()\n",
        "}"
      ],
      "execution_count": 0,
      "outputs": []
    },
    {
      "cell_type": "code",
      "metadata": {
        "id": "WmpAB6v_24Jp",
        "colab_type": "code",
        "colab": {}
      },
      "source": [
        ""
      ],
      "execution_count": 0,
      "outputs": []
    }
  ]
}