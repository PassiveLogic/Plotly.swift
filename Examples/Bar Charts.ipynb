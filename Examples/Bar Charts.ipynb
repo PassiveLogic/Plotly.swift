{
  "cells": [
    {
      "cell_type": "markdown",
      "source": [
        "#### Setup and Import Boilerplate\n"
      ],
      "metadata": {
        "id": "QMZ4wFPZZtSz",
        "colab_type": "text"
      }
    },
    {
      "cell_type": "code",
      "source": [
        "%install '.package(url: \"https://github.com/vojtamolda/Plotly.swift.git\", .branch(\"master\"))' Plotly"
      ],
      "outputs": [
        {
          "output_type": "stream",
          "name": "stdout",
          "text": [
            "Installing packages:\n",
            "\t.package(url: \"https://github.com/vojtamolda/Plotly.swift.git\", .branch(\"master\"))\n",
            "\t\tPlotly\n",
            "With SwiftPM flags: []\n",
            "Working in: /tmp/tmpafzc7wqh/swift-install\n",
            "Fetching https://github.com/vojtamolda/Plotly.swift.git\n",
            "Cloning https://github.com/vojtamolda/Plotly.swift.git\n",
            "Resolving https://github.com/vojtamolda/Plotly.swift.git at master\n",
            "[1/60] Compiling Plotly Image.swift\n",
            "[2/60] Compiling Plotly Indicator.swift\n",
            "[3/60] Compiling Plotly Isosurface.swift\n",
            "[4/60] Compiling Plotly Mesh3D.swift\n",
            "[5/60] Compiling Plotly OHLC.swift\n",
            "[6/60] Compiling Plotly ParallelCategories.swift\n",
            "[7/60] Compiling Plotly ParallelCoordinates.swift\n",
            "[8/60] Compiling Plotly Pie.swift\n",
            "[9/60] Compiling Plotly PointCloud.swift\n",
            "[10/60] Compiling Plotly Sankey.swift\n",
            "[11/60] Compiling Plotly Scatter.swift\n",
            "[12/60] Compiling Plotly Scatter3D.swift\n",
            "[13/60] Compiling Plotly ScatterCarpet.swift\n",
            "[14/60] Compiling Plotly ScatterGL.swift\n",
            "[15/60] Compiling Plotly ScatterGeo.swift\n",
            "[16/60] Compiling Plotly ScatterMapbox.swift\n",
            "[17/60] Compiling Plotly ScatterPlotMatrix.swift\n",
            "[18/60] Compiling Plotly ScatterPolar.swift\n",
            "[19/60] Compiling Plotly ScatterPolarGL.swift\n",
            "[20/60] Compiling Plotly ScatterTernary.swift\n",
            "[21/60] Compiling Plotly StreamTube.swift\n",
            "[22/60] Compiling Plotly Sunburst.swift\n",
            "[23/60] Compiling Plotly Surface.swift\n",
            "[24/60] Compiling Plotly Table.swift\n",
            "[25/60] Compiling Plotly Treemap.swift\n",
            "[26/60] Compiling Plotly Violin.swift\n",
            "[27/60] Compiling Plotly Volume.swift\n",
            "[28/60] Compiling Plotly Waterfall.swift\n",
            "[29/60] Compiling Plotly Convenience.swift\n",
            "[30/60] Compiling Plotly Debug.swift\n",
            "[31/60] Compiling Plotly Playground.swift\n",
            "[32/60] Compiling Plotly Figure.swift\n",
            "[33/60] Compiling Plotly Browser.swift\n",
            "[34/60] Compiling Plotly HTML.swift\n",
            "[35/60] Compiling Plotly JSON.swift\n",
            "[36/60] Compiling Plotly Schema.swift\n",
            "[37/60] Compiling Plotly Config.swift\n",
            "[38/60] Compiling Plotly Layout.swift\n",
            "[39/60] Compiling Plotly Shared.swift\n",
            "[40/60] Compiling Plotly Bar.swift\n",
            "[41/60] Compiling Plotly BarPolar.swift\n",
            "[42/60] Compiling Plotly Box.swift\n",
            "[43/60] Compiling Plotly Candlestick.swift\n",
            "[44/60] Compiling Plotly Carpet.swift\n",
            "[45/60] Compiling Plotly Choropleth.swift\n",
            "[46/60] Compiling Plotly ChoroplethMapbox.swift\n",
            "[47/60] Compiling Plotly Cone.swift\n",
            "[48/60] Compiling Plotly Contour.swift\n",
            "[49/60] Compiling Plotly ContourCarpet.swift\n",
            "[50/60] Compiling Plotly DensityMapbox.swift\n",
            "[51/60] Compiling Plotly Funnel.swift\n",
            "[52/60] Compiling Plotly FunnelArea.swift\n",
            "[53/60] Compiling Plotly Heatmap.swift\n",
            "[54/60] Compiling Plotly HeatmapGL.swift\n",
            "[55/60] Compiling Plotly Histogram.swift\n",
            "[56/60] Compiling Plotly Histogram2D.swift\n",
            "[57/60] Compiling Plotly Histogram2DContour.swift\n",
            "[58/61] Merging module Plotly\n",
            "[59/62] Compiling jupyterInstalledPackages jupyterInstalledPackages.swift\n",
            "[60/63] Wrapping AST for Plotly for debugging\n",
            "[61/63] Merging module jupyterInstalledPackages\n",
            "[62/63] Wrapping AST for jupyterInstalledPackages for debugging\n",
            "[63/63] Linking libjupyterInstalledPackages.so\n",
            "Initializing Swift...\n",
            "Installation complete!\n"
          ]
        }
      ],
      "execution_count": 1,
      "metadata": {
        "id": "ih5n7UBtG_1D",
        "colab_type": "code",
        "outputId": "051909b1-3910-4686-ea26-7efb13c84354",
        "colab": {
          "base_uri": "https://localhost:8080/",
          "height": 1000
        },
        "cellView": "code"
      }
    },
    {
      "cell_type": "code",
      "source": [
        "import Plotly"
      ],
      "outputs": [],
      "execution_count": 0,
      "metadata": {
        "id": "glqKdnGhbc9z",
        "colab_type": "code",
        "colab": {}
      }
    },
    {
      "cell_type": "code",
      "source": [
        "%include \"EnableIPythonDisplay.swift\"\n",
        "\n",
        "func display(figure: Figure) {\n",
        "    let htmlContent = try! HTML.create(from: figure,\n",
        "        plotly: .online, mathJax: .online, document: false)\n",
        "\n",
        "    let iPythonDisplay = Python.import(\"IPython.display\")\n",
        "    iPythonDisplay.HTML(htmlContent).display()\n",
        "}"
      ],
      "outputs": [],
      "execution_count": 0,
      "metadata": {
        "id": "ZPkE_ZyO64aT",
        "colab_type": "code",
        "colab": {}
      }
    },
    {
      "cell_type": "markdown",
      "source": [
        "# Bar Charts"
      ],
      "metadata": {
        "id": "Lpzd-uWuYATi",
        "colab_type": "text"
      }
    },
    {
      "cell_type": "markdown",
      "source": [
        "## Basic Bar Chart"
      ],
      "metadata": {
        "id": "FfMVnvO5X8It",
        "colab_type": "text"
      }
    },
    {
      "cell_type": "code",
      "source": [
        "let trace1 = Bar(\n",
        "    name: \"SF Zoo\",        \n",
        "    x: [\"giraffes\", \"orangutans\", \"monkeys\"],\n",
        "    y: [20, 14, 23]\n",
        ")\n",
        "let trace2 = Bar(\n",
        "    name: \"LA Zoo\",\n",
        "    x: [\"giraffes\", \"orangutans\", \"monkeys\"],\n",
        "    y: [12, 18, 29]\n",
        ")\n",
        "\n",
        "let layout = Layout(\n",
        "    barMode: .group\n",
        ")\n",
        "\n",
        "display(figure: Figure(data: [trace1, trace2], layout: layout))"
      ],
      "outputs": [
        {
          "output_type": "display_data",
          "data": {
            "image/png": "[encoded data removed]",
            "text/html": [
              "    <div>\n",
              "        <script src='https://cdn.plot.ly/plotly-latest.min.js'></script>\n",
              "        <script src='https://cdnjs.cloudflare.com/ajax/libs/mathjax/2.7.5/MathJax.js?config=TeX-AMS-MML_SVG'></script>\n",
              "        <div id='figure' class='plotly-graph-div'></div>\n",
              "        <script type='text/javascript'>\n",
              "            if (document.getElementById('figure')) {{\n",
              "                Plotly.react('figure', {\n",
              "  \"config\" : null,\n",
              "  \"data\" : [\n",
              "    {\n",
              "      \"animatable\" : true,\n",
              "      \"name\" : \"SF Zoo\",\n",
              "      \"type\" : \"bar\",\n",
              "      \"x\" : [\n",
              "        \"giraffes\",\n",
              "        \"orangutans\",\n",
              "        \"monkeys\"\n",
              "      ],\n",
              "      \"y\" : [\n",
              "        20,\n",
              "        14,\n",
              "        23\n",
              "      ]\n",
              "    },\n",
              "    {\n",
              "      \"animatable\" : true,\n",
              "      \"name\" : \"LA Zoo\",\n",
              "      \"type\" : \"bar\",\n",
              "      \"x\" : [\n",
              "        \"giraffes\",\n",
              "        \"orangutans\",\n",
              "        \"monkeys\"\n",
              "      ],\n",
              "      \"y\" : [\n",
              "        12,\n",
              "        18,\n",
              "        29\n",
              "      ]\n",
              "    }\n",
              "  ],\n",
              "  \"layout\" : {\n",
              "    \"barmode\" : \"group\"\n",
              "  }\n",
              "})\n",
              "            }}\n",
              "        </script>\n",
              "    </div>"
            ],
            "text/plain": [
              "<IPython.core.display.HTML object>"
            ]
          },
          "metadata": {
            "tags": []
          }
        }
      ],
      "execution_count": 4,
      "metadata": {
        "id": "cS2m7fQGVSc-",
        "colab_type": "code",
        "colab": {
          "base_uri": "https://localhost:8080/",
          "height": 467
        },
        "outputId": "b9bbd9ac-c0c5-41d2-a6af-8a876ebfa486"
      }
    }
  ],
  "metadata": {
    "kernelspec": {
      "display_name": "Swift",
      "language": "swift",
      "name": "swift"
    },
    "language_info": {
      "file_extension": ".swift",
      "mimetype": "text/x-swift",
      "name": "swift",
      "version": ""
    },
    "colab": {
      "name": "Bar Charts.ipynb",
      "provenance": [],
      "collapsed_sections": []
    },
    "nteract": {
      "version": "0.15.0"
    }
  },
  "nbformat": 4,
  "nbformat_minor": 0
}